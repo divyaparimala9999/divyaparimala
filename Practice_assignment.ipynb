{
 "cells": [
  {
   "cell_type": "code",
   "execution_count": 2,
   "id": "e9e0ffd7",
   "metadata": {},
   "outputs": [
    {
     "name": "stdout",
     "output_type": "stream",
     "text": [
      "Om! Sai Ram\n"
     ]
    }
   ],
   "source": [
    "print(\"Om! Sai Ram\")"
   ]
  },
  {
   "cell_type": "code",
   "execution_count": 3,
   "id": "0c8af35b",
   "metadata": {},
   "outputs": [
    {
     "name": "stdout",
     "output_type": "stream",
     "text": [
      "divya\n"
     ]
    }
   ],
   "source": [
    "s=\"divya\"\n",
    "print(s)"
   ]
  },
  {
   "cell_type": "code",
   "execution_count": 4,
   "id": "b4dc16e6",
   "metadata": {},
   "outputs": [
    {
     "data": {
      "text/plain": [
       "('divya', 'ayvid', 'ivy', 'iy')"
      ]
     },
     "execution_count": 4,
     "metadata": {},
     "output_type": "execute_result"
    }
   ],
   "source": [
    "s[:],s[::-1],s[1:4],s[1:5:2]"
   ]
  },
  {
   "cell_type": "code",
   "execution_count": 8,
   "id": "fa543ad7",
   "metadata": {},
   "outputs": [
    {
     "data": {
      "text/plain": [
       "5"
      ]
     },
     "execution_count": 8,
     "metadata": {},
     "output_type": "execute_result"
    }
   ],
   "source": [
    "len(s),"
   ]
  },
  {
   "cell_type": "code",
   "execution_count": 17,
   "id": "74adcfd0",
   "metadata": {},
   "outputs": [
    {
     "data": {
      "text/plain": [
       "'tivya'"
      ]
     },
     "execution_count": 17,
     "metadata": {},
     "output_type": "execute_result"
    }
   ],
   "source": [
    "b=s.replace('d','t')\n",
    "b"
   ]
  },
  {
   "cell_type": "code",
   "execution_count": 80,
   "id": "08c150d5",
   "metadata": {},
   "outputs": [
    {
     "data": {
      "text/plain": [
       "['div', 'par', 'kav', 'sumi', 1, 2, 3, 25]"
      ]
     },
     "execution_count": 80,
     "metadata": {},
     "output_type": "execute_result"
    }
   ],
   "source": [
    "l1=['div','par','kav','sumi']\n",
    "l2=[1,2,3]\n",
    "l1.extend(l2)\n",
    "l1\n",
    "l1.append(25)\n",
    "l1"
   ]
  },
  {
   "cell_type": "code",
   "execution_count": 23,
   "id": "5bdb1669",
   "metadata": {},
   "outputs": [
    {
     "data": {
      "text/plain": [
       "['div', 'pavi', 'pavi', 'par', 'kav', 'sumi']"
      ]
     },
     "execution_count": 23,
     "metadata": {},
     "output_type": "execute_result"
    }
   ],
   "source": [
    "l1.insert(1,'pavi')\n",
    "l1"
   ]
  },
  {
   "cell_type": "code",
   "execution_count": 26,
   "id": "73b7ec7b",
   "metadata": {},
   "outputs": [
    {
     "data": {
      "text/plain": [
       "['div', 'pavi', 'navi', 'par', 'kav', 'sumi']"
      ]
     },
     "execution_count": 26,
     "metadata": {},
     "output_type": "execute_result"
    }
   ],
   "source": [
    "l1[2]='navi'\n",
    "l1"
   ]
  },
  {
   "cell_type": "code",
   "execution_count": 31,
   "id": "0ebab170",
   "metadata": {},
   "outputs": [
    {
     "data": {
      "text/plain": [
       "'div'"
      ]
     },
     "execution_count": 31,
     "metadata": {},
     "output_type": "execute_result"
    }
   ],
   "source": [
    "l1.__getitem__(0)"
   ]
  },
  {
   "cell_type": "code",
   "execution_count": 32,
   "id": "f150d790",
   "metadata": {},
   "outputs": [],
   "source": [
    "l1.__setitem__(1,'via')"
   ]
  },
  {
   "cell_type": "code",
   "execution_count": 33,
   "id": "bdfe334a",
   "metadata": {},
   "outputs": [
    {
     "data": {
      "text/plain": [
       "['div', 'via', 'navi', 'par', 'kav', 'sumi']"
      ]
     },
     "execution_count": 33,
     "metadata": {},
     "output_type": "execute_result"
    }
   ],
   "source": [
    "l1"
   ]
  },
  {
   "cell_type": "code",
   "execution_count": 34,
   "id": "0e0f1cc0",
   "metadata": {},
   "outputs": [],
   "source": [
    "l1.__delitem__(3)"
   ]
  },
  {
   "cell_type": "code",
   "execution_count": 35,
   "id": "0d39d272",
   "metadata": {},
   "outputs": [
    {
     "data": {
      "text/plain": [
       "['div', 'via', 'navi', 'kav', 'sumi']"
      ]
     },
     "execution_count": 35,
     "metadata": {},
     "output_type": "execute_result"
    }
   ],
   "source": [
    "l1"
   ]
  },
  {
   "cell_type": "code",
   "execution_count": 38,
   "id": "0afe3c4c",
   "metadata": {},
   "outputs": [
    {
     "data": {
      "text/plain": [
       "('kav', ['div', 'via'])"
      ]
     },
     "execution_count": 38,
     "metadata": {},
     "output_type": "execute_result"
    }
   ],
   "source": [
    "l1.pop(2),l1"
   ]
  },
  {
   "cell_type": "code",
   "execution_count": 45,
   "id": "6fc9c11d",
   "metadata": {},
   "outputs": [
    {
     "data": {
      "text/plain": [
       "tuple"
      ]
     },
     "execution_count": 45,
     "metadata": {},
     "output_type": "execute_result"
    }
   ],
   "source": [
    "s1=('anvi','kanvi','ranvi')\n",
    "type(s1)"
   ]
  },
  {
   "cell_type": "code",
   "execution_count": 46,
   "id": "2fcb457d",
   "metadata": {},
   "outputs": [
    {
     "name": "stdout",
     "output_type": "stream",
     "text": [
      "kanvi\n"
     ]
    }
   ],
   "source": [
    "print(s1[1])"
   ]
  },
  {
   "cell_type": "code",
   "execution_count": 49,
   "id": "73c984b2",
   "metadata": {},
   "outputs": [
    {
     "ename": "AttributeError",
     "evalue": "'tuple' object has no attribute '__setitem__'",
     "output_type": "error",
     "traceback": [
      "\u001b[1;31m---------------------------------------------------------------------------\u001b[0m",
      "\u001b[1;31mAttributeError\u001b[0m                            Traceback (most recent call last)",
      "\u001b[1;32m~\\AppData\\Local\\Temp/ipykernel_10776/1314012838.py\u001b[0m in \u001b[0;36m<module>\u001b[1;34m\u001b[0m\n\u001b[1;32m----> 1\u001b[1;33m \u001b[0ms1\u001b[0m\u001b[1;33m.\u001b[0m\u001b[0m__getitem__\u001b[0m\u001b[1;33m(\u001b[0m\u001b[1;36m2\u001b[0m\u001b[1;33m)\u001b[0m\u001b[1;33m,\u001b[0m\u001b[0ms1\u001b[0m\u001b[1;33m.\u001b[0m\u001b[0m__setitem__\u001b[0m\u001b[1;33m(\u001b[0m\u001b[1;36m2\u001b[0m\u001b[1;33m,\u001b[0m\u001b[1;34m'han'\u001b[0m\u001b[1;33m)\u001b[0m\u001b[1;33m\u001b[0m\u001b[1;33m\u001b[0m\u001b[0m\n\u001b[0m",
      "\u001b[1;31mAttributeError\u001b[0m: 'tuple' object has no attribute '__setitem__'"
     ]
    }
   ],
   "source": [
    "s1.__getitem__(2),s1.__setitem__(2,'han')"
   ]
  },
  {
   "cell_type": "code",
   "execution_count": 51,
   "id": "b999110a",
   "metadata": {},
   "outputs": [
    {
     "ename": "AttributeError",
     "evalue": "'tuple' object has no attribute 'pop'",
     "output_type": "error",
     "traceback": [
      "\u001b[1;31m---------------------------------------------------------------------------\u001b[0m",
      "\u001b[1;31mAttributeError\u001b[0m                            Traceback (most recent call last)",
      "\u001b[1;32m~\\AppData\\Local\\Temp/ipykernel_10776/3607623045.py\u001b[0m in \u001b[0;36m<module>\u001b[1;34m\u001b[0m\n\u001b[1;32m----> 1\u001b[1;33m \u001b[0ms1\u001b[0m\u001b[1;33m.\u001b[0m\u001b[0mpop\u001b[0m\u001b[1;33m(\u001b[0m\u001b[1;36m0\u001b[0m\u001b[1;33m)\u001b[0m\u001b[1;33m\u001b[0m\u001b[1;33m\u001b[0m\u001b[0m\n\u001b[0m",
      "\u001b[1;31mAttributeError\u001b[0m: 'tuple' object has no attribute 'pop'"
     ]
    }
   ],
   "source": [
    "s1.pop(0)"
   ]
  },
  {
   "cell_type": "code",
   "execution_count": 59,
   "id": "f1bfef6e",
   "metadata": {},
   "outputs": [
    {
     "name": "stdout",
     "output_type": "stream",
     "text": [
      "<class 'tuple'>\n",
      "<class 'list'>\n"
     ]
    },
    {
     "data": {
      "text/plain": [
       "('anvi', 'kanvi', 'ranvi', 'rani')"
      ]
     },
     "execution_count": 59,
     "metadata": {},
     "output_type": "execute_result"
    }
   ],
   "source": [
    "s1=('anvi','kanvi','ranvi','anvi')\n",
    "print(type(s1))\n",
    "l1=list(s1)\n",
    "print(type(l1))\n",
    "l1[3]='rani'\n",
    "s1=tuple(l1)\n",
    "s1"
   ]
  },
  {
   "cell_type": "code",
   "execution_count": 56,
   "id": "d3f8715c",
   "metadata": {},
   "outputs": [
    {
     "name": "stdout",
     "output_type": "stream",
     "text": [
      "{'kanvi', 'ranvi', 'anvi'}\n"
     ]
    },
    {
     "data": {
      "text/plain": [
       "set"
      ]
     },
     "execution_count": 56,
     "metadata": {},
     "output_type": "execute_result"
    }
   ],
   "source": [
    "s1={'anvi','kanvi','ranvi','anvi'}\n",
    "print(s1)\n",
    "type(s1)"
   ]
  },
  {
   "cell_type": "code",
   "execution_count": 75,
   "id": "448728ac",
   "metadata": {},
   "outputs": [
    {
     "data": {
      "text/plain": [
       "dict_items([('name', 'divya'), ('age', 21), ('job', 'trainee')])"
      ]
     },
     "execution_count": 75,
     "metadata": {},
     "output_type": "execute_result"
    }
   ],
   "source": [
    "dict={'name':'divya','age':21,'job':'trainee'}\n",
    "dict.values()\n",
    "dict.keys()\n",
    "dict.items()"
   ]
  },
  {
   "cell_type": "code",
   "execution_count": 66,
   "id": "1d74a9cd",
   "metadata": {},
   "outputs": [
    {
     "data": {
      "text/plain": [
       "'divya'"
      ]
     },
     "execution_count": 66,
     "metadata": {},
     "output_type": "execute_result"
    }
   ],
   "source": [
    "dict.__getitem__('name')"
   ]
  },
  {
   "cell_type": "code",
   "execution_count": 67,
   "id": "645da71a",
   "metadata": {},
   "outputs": [],
   "source": [
    "dict.__setitem__('job','software')"
   ]
  },
  {
   "cell_type": "code",
   "execution_count": 68,
   "id": "9cf2e7c3",
   "metadata": {},
   "outputs": [
    {
     "data": {
      "text/plain": [
       "{'name': 'divya', 'age': 21, 'job': 'software'}"
      ]
     },
     "execution_count": 68,
     "metadata": {},
     "output_type": "execute_result"
    }
   ],
   "source": [
    "dict"
   ]
  },
  {
   "cell_type": "code",
   "execution_count": 70,
   "id": "e1367fa6",
   "metadata": {},
   "outputs": [],
   "source": [
    "dict.__delitem__('age')"
   ]
  },
  {
   "cell_type": "code",
   "execution_count": 77,
   "id": "bce3e338",
   "metadata": {},
   "outputs": [
    {
     "ename": "AttributeError",
     "evalue": "'dict' object has no attribute 'extend'",
     "output_type": "error",
     "traceback": [
      "\u001b[1;31m---------------------------------------------------------------------------\u001b[0m",
      "\u001b[1;31mAttributeError\u001b[0m                            Traceback (most recent call last)",
      "\u001b[1;32m~\\AppData\\Local\\Temp/ipykernel_10776/3053766839.py\u001b[0m in \u001b[0;36m<module>\u001b[1;34m\u001b[0m\n\u001b[0;32m      1\u001b[0m \u001b[0mdict1\u001b[0m\u001b[1;33m=\u001b[0m\u001b[1;33m{\u001b[0m\u001b[1;36m1\u001b[0m\u001b[1;33m:\u001b[0m\u001b[1;34m'aa'\u001b[0m\u001b[1;33m,\u001b[0m\u001b[1;36m2\u001b[0m\u001b[1;33m:\u001b[0m\u001b[1;34m'bb'\u001b[0m\u001b[1;33m,\u001b[0m\u001b[1;36m3\u001b[0m\u001b[1;33m:\u001b[0m\u001b[1;34m'cc'\u001b[0m\u001b[1;33m}\u001b[0m\u001b[1;33m\u001b[0m\u001b[1;33m\u001b[0m\u001b[0m\n\u001b[1;32m----> 2\u001b[1;33m \u001b[0mdict\u001b[0m\u001b[1;33m.\u001b[0m\u001b[0mextend\u001b[0m\u001b[1;33m(\u001b[0m\u001b[0mdict1\u001b[0m\u001b[1;33m)\u001b[0m\u001b[1;33m\u001b[0m\u001b[1;33m\u001b[0m\u001b[0m\n\u001b[0m",
      "\u001b[1;31mAttributeError\u001b[0m: 'dict' object has no attribute 'extend'"
     ]
    }
   ],
   "source": [
    "dict1={1:'aa',2:'bb',3:'cc'}\n",
    "dict.extend(dict1)"
   ]
  },
  {
   "cell_type": "code",
   "execution_count": 82,
   "id": "6b094dd8",
   "metadata": {},
   "outputs": [
    {
     "data": {
      "text/plain": [
       "{1, 2, 3, 4, 5, 6, 12, 13, 14}"
      ]
     },
     "execution_count": 82,
     "metadata": {},
     "output_type": "execute_result"
    }
   ],
   "source": [
    "s1={1,2,3,4,5,6}\n",
    "s2={12,13,14}\n",
    "s1.union(s2)"
   ]
  },
  {
   "cell_type": "code",
   "execution_count": 85,
   "id": "3c6f1340",
   "metadata": {},
   "outputs": [
    {
     "data": {
      "text/plain": [
       "{6}"
      ]
     },
     "execution_count": 85,
     "metadata": {},
     "output_type": "execute_result"
    }
   ],
   "source": [
    "s1={1,2,3,4,5,6}\n",
    "s2={12,13,14,6}\n",
    "s1.intersection(s2)"
   ]
  },
  {
   "cell_type": "code",
   "execution_count": 84,
   "id": "4b9c6175",
   "metadata": {},
   "outputs": [
    {
     "name": "stdout",
     "output_type": "stream",
     "text": [
      "Help on class set in module builtins:\n",
      "\n",
      "class set(object)\n",
      " |  set() -> new empty set object\n",
      " |  set(iterable) -> new set object\n",
      " |  \n",
      " |  Build an unordered collection of unique elements.\n",
      " |  \n",
      " |  Methods defined here:\n",
      " |  \n",
      " |  __and__(self, value, /)\n",
      " |      Return self&value.\n",
      " |  \n",
      " |  __contains__(...)\n",
      " |      x.__contains__(y) <==> y in x.\n",
      " |  \n",
      " |  __eq__(self, value, /)\n",
      " |      Return self==value.\n",
      " |  \n",
      " |  __ge__(self, value, /)\n",
      " |      Return self>=value.\n",
      " |  \n",
      " |  __getattribute__(self, name, /)\n",
      " |      Return getattr(self, name).\n",
      " |  \n",
      " |  __gt__(self, value, /)\n",
      " |      Return self>value.\n",
      " |  \n",
      " |  __iand__(self, value, /)\n",
      " |      Return self&=value.\n",
      " |  \n",
      " |  __init__(self, /, *args, **kwargs)\n",
      " |      Initialize self.  See help(type(self)) for accurate signature.\n",
      " |  \n",
      " |  __ior__(self, value, /)\n",
      " |      Return self|=value.\n",
      " |  \n",
      " |  __isub__(self, value, /)\n",
      " |      Return self-=value.\n",
      " |  \n",
      " |  __iter__(self, /)\n",
      " |      Implement iter(self).\n",
      " |  \n",
      " |  __ixor__(self, value, /)\n",
      " |      Return self^=value.\n",
      " |  \n",
      " |  __le__(self, value, /)\n",
      " |      Return self<=value.\n",
      " |  \n",
      " |  __len__(self, /)\n",
      " |      Return len(self).\n",
      " |  \n",
      " |  __lt__(self, value, /)\n",
      " |      Return self<value.\n",
      " |  \n",
      " |  __ne__(self, value, /)\n",
      " |      Return self!=value.\n",
      " |  \n",
      " |  __or__(self, value, /)\n",
      " |      Return self|value.\n",
      " |  \n",
      " |  __rand__(self, value, /)\n",
      " |      Return value&self.\n",
      " |  \n",
      " |  __reduce__(...)\n",
      " |      Return state information for pickling.\n",
      " |  \n",
      " |  __repr__(self, /)\n",
      " |      Return repr(self).\n",
      " |  \n",
      " |  __ror__(self, value, /)\n",
      " |      Return value|self.\n",
      " |  \n",
      " |  __rsub__(self, value, /)\n",
      " |      Return value-self.\n",
      " |  \n",
      " |  __rxor__(self, value, /)\n",
      " |      Return value^self.\n",
      " |  \n",
      " |  __sizeof__(...)\n",
      " |      S.__sizeof__() -> size of S in memory, in bytes\n",
      " |  \n",
      " |  __sub__(self, value, /)\n",
      " |      Return self-value.\n",
      " |  \n",
      " |  __xor__(self, value, /)\n",
      " |      Return self^value.\n",
      " |  \n",
      " |  add(...)\n",
      " |      Add an element to a set.\n",
      " |      \n",
      " |      This has no effect if the element is already present.\n",
      " |  \n",
      " |  clear(...)\n",
      " |      Remove all elements from this set.\n",
      " |  \n",
      " |  copy(...)\n",
      " |      Return a shallow copy of a set.\n",
      " |  \n",
      " |  difference(...)\n",
      " |      Return the difference of two or more sets as a new set.\n",
      " |      \n",
      " |      (i.e. all elements that are in this set but not the others.)\n",
      " |  \n",
      " |  difference_update(...)\n",
      " |      Remove all elements of another set from this set.\n",
      " |  \n",
      " |  discard(...)\n",
      " |      Remove an element from a set if it is a member.\n",
      " |      \n",
      " |      If the element is not a member, do nothing.\n",
      " |  \n",
      " |  intersection(...)\n",
      " |      Return the intersection of two sets as a new set.\n",
      " |      \n",
      " |      (i.e. all elements that are in both sets.)\n",
      " |  \n",
      " |  intersection_update(...)\n",
      " |      Update a set with the intersection of itself and another.\n",
      " |  \n",
      " |  isdisjoint(...)\n",
      " |      Return True if two sets have a null intersection.\n",
      " |  \n",
      " |  issubset(...)\n",
      " |      Report whether another set contains this set.\n",
      " |  \n",
      " |  issuperset(...)\n",
      " |      Report whether this set contains another set.\n",
      " |  \n",
      " |  pop(...)\n",
      " |      Remove and return an arbitrary set element.\n",
      " |      Raises KeyError if the set is empty.\n",
      " |  \n",
      " |  remove(...)\n",
      " |      Remove an element from a set; it must be a member.\n",
      " |      \n",
      " |      If the element is not a member, raise a KeyError.\n",
      " |  \n",
      " |  symmetric_difference(...)\n",
      " |      Return the symmetric difference of two sets as a new set.\n",
      " |      \n",
      " |      (i.e. all elements that are in exactly one of the sets.)\n",
      " |  \n",
      " |  symmetric_difference_update(...)\n",
      " |      Update a set with the symmetric difference of itself and another.\n",
      " |  \n",
      " |  union(...)\n",
      " |      Return the union of sets as a new set.\n",
      " |      \n",
      " |      (i.e. all elements that are in either set.)\n",
      " |  \n",
      " |  update(...)\n",
      " |      Update a set with the union of itself and others.\n",
      " |  \n",
      " |  ----------------------------------------------------------------------\n",
      " |  Class methods defined here:\n",
      " |  \n",
      " |  __class_getitem__(...) from builtins.type\n",
      " |      See PEP 585\n",
      " |  \n",
      " |  ----------------------------------------------------------------------\n",
      " |  Static methods defined here:\n",
      " |  \n",
      " |  __new__(*args, **kwargs) from builtins.type\n",
      " |      Create and return a new object.  See help(type) for accurate signature.\n",
      " |  \n",
      " |  ----------------------------------------------------------------------\n",
      " |  Data and other attributes defined here:\n",
      " |  \n",
      " |  __hash__ = None\n",
      "\n"
     ]
    }
   ],
   "source": [
    "help(set)"
   ]
  },
  {
   "cell_type": "code",
   "execution_count": 90,
   "id": "1dd86281",
   "metadata": {},
   "outputs": [],
   "source": [
    "s1={1,2,3,4,5,6}\n",
    "s2={12,13,14,6}\n",
    "s1.intersection_update(s2)"
   ]
  },
  {
   "cell_type": "code",
   "execution_count": 91,
   "id": "dd11c1a8",
   "metadata": {},
   "outputs": [
    {
     "data": {
      "text/plain": [
       "{6}"
      ]
     },
     "execution_count": 91,
     "metadata": {},
     "output_type": "execute_result"
    }
   ],
   "source": [
    "s1"
   ]
  },
  {
   "cell_type": "markdown",
   "id": "d0f53b65",
   "metadata": {},
   "source": [
    "``DOCSTRINGS``"
   ]
  },
  {
   "cell_type": "code",
   "execution_count": 93,
   "id": "b629590d",
   "metadata": {},
   "outputs": [],
   "source": [
    "def add_num(a,b):\n",
    "    \"\"\"add the two \n",
    "       variables and return sum\n",
    "       of two numbers\n",
    "    \"\"\"\n",
    "    return a+b"
   ]
  },
  {
   "cell_type": "code",
   "execution_count": 94,
   "id": "f787e9f8",
   "metadata": {},
   "outputs": [
    {
     "data": {
      "text/plain": [
       "67"
      ]
     },
     "execution_count": 94,
     "metadata": {},
     "output_type": "execute_result"
    }
   ],
   "source": [
    "add_num(22,45)"
   ]
  },
  {
   "cell_type": "code",
   "execution_count": 97,
   "id": "2910a239",
   "metadata": {},
   "outputs": [
    {
     "data": {
      "text/plain": [
       "'add the two \\n       variables and return sum\\n       of two numbers\\n    '"
      ]
     },
     "execution_count": 97,
     "metadata": {},
     "output_type": "execute_result"
    }
   ],
   "source": [
    "add_num.__doc__"
   ]
  },
  {
   "cell_type": "code",
   "execution_count": 98,
   "id": "b1caa712",
   "metadata": {},
   "outputs": [],
   "source": [
    "\"\"\"add the two \n",
    "    variables and return sum\n",
    "    of two numbers\n",
    "\"\"\"\n",
    "\n",
    "def add_num(a,b):\n",
    "\n",
    "    return a+b"
   ]
  },
  {
   "cell_type": "code",
   "execution_count": 99,
   "id": "247b44eb",
   "metadata": {},
   "outputs": [
    {
     "data": {
      "text/plain": [
       "424"
      ]
     },
     "execution_count": 99,
     "metadata": {},
     "output_type": "execute_result"
    }
   ],
   "source": [
    "add_num(55,369)"
   ]
  },
  {
   "cell_type": "code",
   "execution_count": 100,
   "id": "d0febb41",
   "metadata": {},
   "outputs": [],
   "source": [
    "add_num.__doc__"
   ]
  },
  {
   "cell_type": "code",
   "execution_count": 103,
   "id": "933ac819",
   "metadata": {},
   "outputs": [],
   "source": [
    "def add_num(a:int,b:int) ->int:\n",
    "\n",
    "    return a+b"
   ]
  },
  {
   "cell_type": "code",
   "execution_count": 104,
   "id": "6f89dfe9",
   "metadata": {},
   "outputs": [
    {
     "data": {
      "text/plain": [
       "110"
      ]
     },
     "execution_count": 104,
     "metadata": {},
     "output_type": "execute_result"
    }
   ],
   "source": [
    "add_num(25,85)"
   ]
  },
  {
   "cell_type": "code",
   "execution_count": 111,
   "id": "4a233235",
   "metadata": {},
   "outputs": [
    {
     "data": {
      "text/plain": [
       "{'a': int, 'b': int, 'return': int}"
      ]
     },
     "execution_count": 111,
     "metadata": {},
     "output_type": "execute_result"
    }
   ],
   "source": [
    "add_num.__annotations__"
   ]
  },
  {
   "cell_type": "code",
   "execution_count": 117,
   "id": "156df797",
   "metadata": {},
   "outputs": [],
   "source": [
    "def square(x):\n",
    "    return x*x"
   ]
  },
  {
   "cell_type": "code",
   "execution_count": 118,
   "id": "8b22fc6e",
   "metadata": {},
   "outputs": [
    {
     "data": {
      "text/plain": [
       "4"
      ]
     },
     "execution_count": 118,
     "metadata": {},
     "output_type": "execute_result"
    }
   ],
   "source": [
    "square(2)"
   ]
  },
  {
   "cell_type": "code",
   "execution_count": 121,
   "id": "68b05c63",
   "metadata": {},
   "outputs": [
    {
     "data": {
      "text/plain": [
       "[1, 4, 9, 16, 25]"
      ]
     },
     "execution_count": 121,
     "metadata": {},
     "output_type": "execute_result"
    }
   ],
   "source": [
    "a=[1,2,3,4,5]\n",
    "list(map(square,a))"
   ]
  },
  {
   "cell_type": "code",
   "execution_count": 124,
   "id": "f667ee62",
   "metadata": {},
   "outputs": [],
   "source": [
    "a=[1,2,3,4,5]"
   ]
  },
  {
   "cell_type": "code",
   "execution_count": 129,
   "id": "63114815",
   "metadata": {},
   "outputs": [],
   "source": [
    "def add(a,b):\n",
    "    return a+b"
   ]
  },
  {
   "cell_type": "code",
   "execution_count": 130,
   "id": "57d736a7",
   "metadata": {},
   "outputs": [
    {
     "data": {
      "text/plain": [
       "5"
      ]
     },
     "execution_count": 130,
     "metadata": {},
     "output_type": "execute_result"
    }
   ],
   "source": [
    "add(2,3)"
   ]
  },
  {
   "cell_type": "code",
   "execution_count": 131,
   "id": "549874c2",
   "metadata": {},
   "outputs": [],
   "source": [
    "l1=(lambda x,y:x+y)"
   ]
  },
  {
   "cell_type": "code",
   "execution_count": 132,
   "id": "29002e66",
   "metadata": {
    "scrolled": true
   },
   "outputs": [
    {
     "data": {
      "text/plain": [
       "184"
      ]
     },
     "execution_count": 132,
     "metadata": {},
     "output_type": "execute_result"
    }
   ],
   "source": [
    "l1(88,96)"
   ]
  },
  {
   "cell_type": "code",
   "execution_count": 139,
   "id": "b53ef4c8",
   "metadata": {},
   "outputs": [],
   "source": [
    "b=[3,5,8,6]"
   ]
  },
  {
   "cell_type": "code",
   "execution_count": 152,
   "id": "0aa54efc",
   "metadata": {},
   "outputs": [
    {
     "data": {
      "text/plain": [
       "[4, 7, 11, 10]"
      ]
     },
     "execution_count": 152,
     "metadata": {},
     "output_type": "execute_result"
    }
   ],
   "source": [
    "list(map(lambda x,y:x+y,a,b))"
   ]
  },
  {
   "cell_type": "code",
   "execution_count": 157,
   "id": "4cc5fd14",
   "metadata": {},
   "outputs": [
    {
     "data": {
      "text/plain": [
       "[0, 2, 4, 6, 8, 10]"
      ]
     },
     "execution_count": 157,
     "metadata": {},
     "output_type": "execute_result"
    }
   ],
   "source": [
    "list(filter(lambda x:x%2==0,range(11)))"
   ]
  },
  {
   "cell_type": "code",
   "execution_count": 163,
   "id": "b0c168ab",
   "metadata": {},
   "outputs": [
    {
     "ename": "NameError",
     "evalue": "name 'xrange' is not defined",
     "output_type": "error",
     "traceback": [
      "\u001b[1;31m---------------------------------------------------------------------------\u001b[0m",
      "\u001b[1;31mNameError\u001b[0m                                 Traceback (most recent call last)",
      "\u001b[1;32m~\\AppData\\Local\\Temp/ipykernel_10776/3356525953.py\u001b[0m in \u001b[0;36m<module>\u001b[1;34m\u001b[0m\n\u001b[1;32m----> 1\u001b[1;33m \u001b[0mprint\u001b[0m\u001b[1;33m(\u001b[0m\u001b[0mxrange\u001b[0m\u001b[1;33m(\u001b[0m\u001b[1;36m1\u001b[0m\u001b[1;33m,\u001b[0m\u001b[1;36m10\u001b[0m\u001b[1;33m)\u001b[0m\u001b[1;33m)\u001b[0m\u001b[1;33m\u001b[0m\u001b[1;33m\u001b[0m\u001b[0m\n\u001b[0m",
      "\u001b[1;31mNameError\u001b[0m: name 'xrange' is not defined"
     ]
    }
   ],
   "source": [
    "print(xrange(1,10))"
   ]
  },
  {
   "cell_type": "code",
   "execution_count": 161,
   "id": "12f834cb",
   "metadata": {},
   "outputs": [
    {
     "data": {
      "text/plain": [
       "48"
      ]
     },
     "execution_count": 161,
     "metadata": {},
     "output_type": "execute_result"
    }
   ],
   "source": [
    "import sys\n",
    "sys.getsizeof(range(100))"
   ]
  },
  {
   "cell_type": "code",
   "execution_count": 162,
   "id": "757fca62",
   "metadata": {},
   "outputs": [
    {
     "ename": "NameError",
     "evalue": "name 'xrange' is not defined",
     "output_type": "error",
     "traceback": [
      "\u001b[1;31m---------------------------------------------------------------------------\u001b[0m",
      "\u001b[1;31mNameError\u001b[0m                                 Traceback (most recent call last)",
      "\u001b[1;32m~\\AppData\\Local\\Temp/ipykernel_10776/2941288278.py\u001b[0m in \u001b[0;36m<module>\u001b[1;34m\u001b[0m\n\u001b[0;32m      1\u001b[0m \u001b[1;32mimport\u001b[0m \u001b[0msys\u001b[0m\u001b[1;33m\u001b[0m\u001b[1;33m\u001b[0m\u001b[0m\n\u001b[1;32m----> 2\u001b[1;33m \u001b[0msys\u001b[0m\u001b[1;33m.\u001b[0m\u001b[0mgetsizeof\u001b[0m\u001b[1;33m(\u001b[0m\u001b[0mxrange\u001b[0m\u001b[1;33m(\u001b[0m\u001b[1;36m100\u001b[0m\u001b[1;33m)\u001b[0m\u001b[1;33m)\u001b[0m\u001b[1;33m\u001b[0m\u001b[1;33m\u001b[0m\u001b[0m\n\u001b[0m",
      "\u001b[1;31mNameError\u001b[0m: name 'xrange' is not defined"
     ]
    }
   ],
   "source": [
    "import sys\n",
    "sys.getsizeof(xrange(100))"
   ]
  },
  {
   "cell_type": "code",
   "execution_count": 1,
   "id": "1f160f61",
   "metadata": {},
   "outputs": [],
   "source": [
    "def func(*args):\n",
    "    return sum(args)"
   ]
  },
  {
   "cell_type": "code",
   "execution_count": 2,
   "id": "f348329f",
   "metadata": {},
   "outputs": [
    {
     "data": {
      "text/plain": [
       "10"
      ]
     },
     "execution_count": 2,
     "metadata": {},
     "output_type": "execute_result"
    }
   ],
   "source": [
    "f1=func(1,2,3,4)\n"
   ]
  },
  {
   "cell_type": "code",
   "execution_count": 37,
   "id": "108e9825",
   "metadata": {},
   "outputs": [],
   "source": [
    "def func1(**Kwargs):\n",
    "    return sum(Kwargs.values())"
   ]
  },
  {
   "cell_type": "code",
   "execution_count": 38,
   "id": "a5477636",
   "metadata": {},
   "outputs": [
    {
     "data": {
      "text/plain": [
       "63"
      ]
     },
     "execution_count": 38,
     "metadata": {},
     "output_type": "execute_result"
    }
   ],
   "source": [
    "func1(a=25,b=26,c=12)"
   ]
  },
  {
   "cell_type": "code",
   "execution_count": 20,
   "id": "48163f27",
   "metadata": {},
   "outputs": [],
   "source": [
    "class Student:\n",
    "    def __init__(self,name,marks):\n",
    "        self.name=name\n",
    "        self.marks=marks\n",
    "    def msg(self):\n",
    "        print(self.name + \" got \" + self.marks)"
   ]
  },
  {
   "cell_type": "code",
   "execution_count": 21,
   "id": "40c1ff11",
   "metadata": {},
   "outputs": [],
   "source": [
    "s=Student(\"divya\",\"21\")\n",
    "name=\"pari\"\n",
    "\n",
    "marks=\"56\"\n",
    "marks=str((int(marks)/600)*100)"
   ]
  },
  {
   "cell_type": "code",
   "execution_count": 23,
   "id": "2f531b52",
   "metadata": {},
   "outputs": [
    {
     "name": "stdout",
     "output_type": "stream",
     "text": [
      "pari got 9.333333333333334\n"
     ]
    }
   ],
   "source": [
    "s1=Student(name,marks)\n",
    "s1.msg()"
   ]
  },
  {
   "cell_type": "code",
   "execution_count": 26,
   "id": "6e288650",
   "metadata": {},
   "outputs": [
    {
     "name": "stdout",
     "output_type": "stream",
     "text": [
      "kavi got 16.333333333333332\n"
     ]
    }
   ],
   "source": [
    "name=\"kavi\"  #HEre we agin create logic of marks to overcome this we use cls\n",
    "marks=\"98\"\n",
    "#marks=str((int(marks)/600)*100)\n",
    "s3=Student(name,marks)\n",
    "s3.msg()"
   ]
  },
  {
   "cell_type": "code",
   "execution_count": 28,
   "id": "cd47a30b",
   "metadata": {},
   "outputs": [],
   "source": [
    "class Student:\n",
    "    def __init__(self,name,marks):\n",
    "        self.name=name\n",
    "        self.marks=marks\n",
    "    def msg(self):\n",
    "        print(self.name + \" got \" + self.marks)\n",
    "        \n",
    "    @classmethod   \n",
    "    def get_per(cls,name,marks):\n",
    "        return(name,str((int(marks)/600)*100))\n",
    "        "
   ]
  },
  {
   "cell_type": "code",
   "execution_count": 39,
   "id": "f68218da",
   "metadata": {},
   "outputs": [
    {
     "name": "stdout",
     "output_type": "stream",
     "text": [
      "anu got 21\n"
     ]
    }
   ],
   "source": [
    "t1=Student(\"anu\",\"21\")\n",
    "t2=Student(\"divya\",\"256\")\n",
    "t1.msg()"
   ]
  },
  {
   "cell_type": "code",
   "execution_count": 40,
   "id": "a2daeb2d",
   "metadata": {},
   "outputs": [
    {
     "data": {
      "text/plain": [
       "('anu', '4.166666666666666')"
      ]
     },
     "execution_count": 40,
     "metadata": {},
     "output_type": "execute_result"
    }
   ],
   "source": [
    "t1.get_per(\"anu\",'25')"
   ]
  },
  {
   "cell_type": "code",
   "execution_count": 45,
   "id": "d24e74be",
   "metadata": {},
   "outputs": [
    {
     "data": {
      "text/plain": [
       "('sru', '11.5')"
      ]
     },
     "execution_count": 45,
     "metadata": {},
     "output_type": "execute_result"
    }
   ],
   "source": [
    "name=\"sru\"\n",
    "marks=\"69\"\n",
    "t3=Student.get_per(name,marks)\n",
    "t3"
   ]
  },
  {
   "cell_type": "code",
   "execution_count": 58,
   "id": "26485785",
   "metadata": {},
   "outputs": [],
   "source": [
    "class Student:\n",
    "    def __init__(self,name,marks):\n",
    "        self.name=name\n",
    "        self.marks=marks\n",
    "    def msg(self):\n",
    "        print(self.name + \" got \" + self.marks)\n",
    "        \n",
    "    @classmethod   \n",
    "    def get_per(cls,name,marks):\n",
    "        return(name,str((int(marks)/600)*100))\n",
    "        \n",
    "    @staticmethod  \n",
    "    def get_age(age):\n",
    "        if age<17:\n",
    "            print(\"Schhol\")\n",
    "        else:\n",
    "            print(\"Not school\")"
   ]
  },
  {
   "cell_type": "code",
   "execution_count": 54,
   "id": "a63b1bf8",
   "metadata": {},
   "outputs": [],
   "source": [
    "h1=Student(\"toni\",\"23\")"
   ]
  },
  {
   "cell_type": "code",
   "execution_count": 55,
   "id": "c2af0f87",
   "metadata": {},
   "outputs": [
    {
     "data": {
      "text/plain": [
       "('tonu', '16.333333333333332')"
      ]
     },
     "execution_count": 55,
     "metadata": {},
     "output_type": "execute_result"
    }
   ],
   "source": [
    "h1.get_per(\"tonu\",\"98\")"
   ]
  },
  {
   "cell_type": "code",
   "execution_count": 61,
   "id": "fb945a6a",
   "metadata": {},
   "outputs": [
    {
     "name": "stdout",
     "output_type": "stream",
     "text": [
      "Schhol\n"
     ]
    }
   ],
   "source": [
    "Student.get_age(12)"
   ]
  },
  {
   "cell_type": "code",
   "execution_count": 70,
   "id": "b6813999",
   "metadata": {},
   "outputs": [],
   "source": [
    "class School:\n",
    "    def __init__(self,name,grade):\n",
    "        self.name=name\n",
    "        self.grade=grade\n",
    "        self.msg=self.name + \" got \" + self.grade\n",
    "    "
   ]
  },
  {
   "cell_type": "code",
   "execution_count": 72,
   "id": "8efddbf7",
   "metadata": {},
   "outputs": [
    {
     "data": {
      "text/plain": [
       "'divya got A'"
      ]
     },
     "execution_count": 72,
     "metadata": {},
     "output_type": "execute_result"
    }
   ],
   "source": [
    "s1=School(\"divya\",\"A\")\n",
    "s1.grade=\"B\"\n",
    "s1.msg"
   ]
  },
  {
   "cell_type": "code",
   "execution_count": 75,
   "id": "34811c59",
   "metadata": {},
   "outputs": [],
   "source": [
    "class School:\n",
    "    def __init__(self,name,grade):\n",
    "        self.name=name\n",
    "        self.grade=grade\n",
    "        #self.msg=self.name + \" got \" + self.grade\n",
    "    @property\n",
    "    def msg(self):\n",
    "        return self.name + \" got \" + self.grade"
   ]
  },
  {
   "cell_type": "code",
   "execution_count": 77,
   "id": "388a594d",
   "metadata": {},
   "outputs": [
    {
     "data": {
      "text/plain": [
       "'dia got B'"
      ]
     },
     "execution_count": 77,
     "metadata": {},
     "output_type": "execute_result"
    }
   ],
   "source": [
    "s1=School(\"divya\",\"A\")\n",
    "s1.name=\"dia\"\n",
    "s1.grade=\"B\"\n",
    "s1.msg"
   ]
  },
  {
   "cell_type": "code",
   "execution_count": 78,
   "id": "2260b7ee",
   "metadata": {},
   "outputs": [],
   "source": [
    "class School:\n",
    "    def __init__(self,name,grade):\n",
    "        self.name=name\n",
    "        self.grade=grade\n",
    "        #self.msg=self.name + \" got \" + self.grade\n",
    "    @property\n",
    "    def msg(self):\n",
    "        return self.name + \" got \" + self.grade\n",
    "    @msg.setter\n",
    "    def msg(self,msg):\n",
    "        sent=msg.split(\" \")\n",
    "        self.name=sent[0]\n",
    "        self.grade=sent[-1]"
   ]
  },
  {
   "cell_type": "code",
   "execution_count": 80,
   "id": "e717cf71",
   "metadata": {},
   "outputs": [
    {
     "data": {
      "text/plain": [
       "'PAE got 56'"
      ]
     },
     "execution_count": 80,
     "metadata": {},
     "output_type": "execute_result"
    }
   ],
   "source": [
    "s2=School(\"PAE\",\"56\")\n",
    "s2.msg"
   ]
  },
  {
   "cell_type": "code",
   "execution_count": 86,
   "id": "0cbf6e79",
   "metadata": {},
   "outputs": [],
   "source": [
    "s2.msg=\"amulya got grade \""
   ]
  },
  {
   "cell_type": "code",
   "execution_count": 87,
   "id": "00b87e25",
   "metadata": {},
   "outputs": [
    {
     "data": {
      "text/plain": [
       "'amulya got '"
      ]
     },
     "execution_count": 87,
     "metadata": {},
     "output_type": "execute_result"
    }
   ],
   "source": [
    "s2.msg"
   ]
  },
  {
   "cell_type": "code",
   "execution_count": 17,
   "id": "0c90634b",
   "metadata": {},
   "outputs": [],
   "source": [
    "class Student:\n",
    "    def __init__(self,marks):\n",
    "        self.__marks=marks\n",
    "    def per(self):\n",
    "        return (self.__marks/600)*100\n",
    "    def getter(self):\n",
    "        return self.__marks\n",
    "    def setter(self,value):\n",
    "        self.__marks=value\n",
    "    def deleter(self):\n",
    "        return  self.__marks\n",
    "    marks=property(getter,setter,deleter)\n",
    "    "
   ]
  },
  {
   "cell_type": "code",
   "execution_count": 16,
   "id": "0c47c0c5",
   "metadata": {},
   "outputs": [
    {
     "data": {
      "text/plain": [
       "66.66666666666666"
      ]
     },
     "execution_count": 16,
     "metadata": {},
     "output_type": "execute_result"
    }
   ],
   "source": [
    "s1=Student(400)\n",
    "s1.per()\n"
   ]
  },
  {
   "cell_type": "code",
   "execution_count": 12,
   "id": "99d4c2b1",
   "metadata": {},
   "outputs": [
    {
     "data": {
      "text/plain": [
       "50.0"
      ]
     },
     "execution_count": 12,
     "metadata": {},
     "output_type": "execute_result"
    }
   ],
   "source": [
    "s1.marks=300\n",
    "s1.per()"
   ]
  },
  {
   "cell_type": "code",
   "execution_count": 14,
   "id": "159d3a39",
   "metadata": {},
   "outputs": [
    {
     "data": {
      "text/plain": [
       "300"
      ]
     },
     "execution_count": 14,
     "metadata": {},
     "output_type": "execute_result"
    }
   ],
   "source": [
    "s1.deleter()"
   ]
  },
  {
   "cell_type": "code",
   "execution_count": 18,
   "id": "005a5f42",
   "metadata": {},
   "outputs": [],
   "source": [
    "class Animal:\n",
    "    def eating(self):\n",
    "        print(\"eating\")\n",
    "class dog(Animal):\n",
    "    def bark(self):\n",
    "        print(\"barking\")"
   ]
  },
  {
   "cell_type": "code",
   "execution_count": 22,
   "id": "94f95df2",
   "metadata": {},
   "outputs": [
    {
     "name": "stdout",
     "output_type": "stream",
     "text": [
      "barking\n",
      "eating\n"
     ]
    }
   ],
   "source": [
    "d=dog()\n",
    "d.bark()\n",
    "d.eating()"
   ]
  },
  {
   "cell_type": "code",
   "execution_count": 23,
   "id": "e0b742a5",
   "metadata": {},
   "outputs": [],
   "source": [
    "class Animal:\n",
    "    def __init__(self,name):\n",
    "        self.name=name\n",
    "        \n",
    "class dog(Animal):\n",
    "    def display(self):\n",
    "        print(self.name)"
   ]
  },
  {
   "cell_type": "code",
   "execution_count": 25,
   "id": "8b98fbe6",
   "metadata": {},
   "outputs": [
    {
     "name": "stdout",
     "output_type": "stream",
     "text": [
      "snoopy\n"
     ]
    }
   ],
   "source": [
    "d=dog(\"snoopy\")\n",
    "d.display()"
   ]
  },
  {
   "cell_type": "code",
   "execution_count": 26,
   "id": "e0c09d1f",
   "metadata": {},
   "outputs": [],
   "source": [
    "class A:\n",
    "    def water(self):\n",
    "        print(\"Lives in water\")\n",
    "class B:\n",
    "    def land(self):\n",
    "        print(\"Lives in land\")\n",
    "class C(A,B):\n",
    "    pass"
   ]
  },
  {
   "cell_type": "code",
   "execution_count": 29,
   "id": "45a60241",
   "metadata": {},
   "outputs": [
    {
     "name": "stdout",
     "output_type": "stream",
     "text": [
      "Lives in land\n",
      "Lives in water\n"
     ]
    }
   ],
   "source": [
    "c=C()\n",
    "c.land()\n",
    "c.water()"
   ]
  },
  {
   "cell_type": "code",
   "execution_count": 31,
   "id": "03679e60",
   "metadata": {},
   "outputs": [],
   "source": [
    "class A:\n",
    "    def hell(self):\n",
    "        print(\"ho\")\n",
    "class B:\n",
    "    def hell(self):\n",
    "        print(\"ho B\")"
   ]
  },
  {
   "cell_type": "code",
   "execution_count": 33,
   "id": "91d170e2",
   "metadata": {},
   "outputs": [
    {
     "name": "stdout",
     "output_type": "stream",
     "text": [
      "ho B\n"
     ]
    }
   ],
   "source": [
    "b=B()\n",
    "b.hell()"
   ]
  },
  {
   "cell_type": "code",
   "execution_count": 42,
   "id": "d12bf57a",
   "metadata": {},
   "outputs": [],
   "source": [
    "class user:     \n",
    "    __maxspeed=0\n",
    "    def __init__(self):\n",
    "        self.__maxspeed=200\n",
    "    def drive(self):\n",
    "        print(\"driving\")\n",
    "        print(self.__maxspeed)\n",
    "    "
   ]
  },
  {
   "cell_type": "code",
   "execution_count": 43,
   "id": "2b93d214",
   "metadata": {},
   "outputs": [
    {
     "name": "stdout",
     "output_type": "stream",
     "text": [
      "driving\n",
      "200\n"
     ]
    }
   ],
   "source": [
    "u=user()\n",
    "u.drive()\n"
   ]
  },
  {
   "cell_type": "code",
   "execution_count": 39,
   "id": "aeb79e2a",
   "metadata": {},
   "outputs": [
    {
     "ename": "AttributeError",
     "evalue": "'user' object has no attribute '__updatesoftware'",
     "output_type": "error",
     "traceback": [
      "\u001b[1;31m---------------------------------------------------------------------------\u001b[0m",
      "\u001b[1;31mAttributeError\u001b[0m                            Traceback (most recent call last)",
      "\u001b[1;32m~\\AppData\\Local\\Temp/ipykernel_2556/457243051.py\u001b[0m in \u001b[0;36m<module>\u001b[1;34m\u001b[0m\n\u001b[1;32m----> 1\u001b[1;33m \u001b[0mu\u001b[0m\u001b[1;33m.\u001b[0m\u001b[0m__updatesoftware\u001b[0m\u001b[1;33m(\u001b[0m\u001b[1;33m)\u001b[0m\u001b[1;33m\u001b[0m\u001b[1;33m\u001b[0m\u001b[0m\n\u001b[0m",
      "\u001b[1;31mAttributeError\u001b[0m: 'user' object has no attribute '__updatesoftware'"
     ]
    }
   ],
   "source": [
    "u.__updatesoftware()"
   ]
  },
  {
   "cell_type": "code",
   "execution_count": 44,
   "id": "0f5cacc2",
   "metadata": {},
   "outputs": [],
   "source": [
    "class dog:\n",
    "    def sound(self):\n",
    "        print(\"bow bow\")\n",
    "class cat:\n",
    "    def sound(self):\n",
    "        print(\"MEOW\")\n",
    "def makesound(animaltype):\n",
    "    animaltype.sound()"
   ]
  },
  {
   "cell_type": "code",
   "execution_count": 46,
   "id": "831c246f",
   "metadata": {},
   "outputs": [
    {
     "name": "stdout",
     "output_type": "stream",
     "text": [
      "bow bow\n"
     ]
    }
   ],
   "source": [
    "c=cat()\n",
    "d=dog()\n",
    "makesound(d)"
   ]
  },
  {
   "cell_type": "code",
   "execution_count": 51,
   "id": "473e0e8c",
   "metadata": {},
   "outputs": [],
   "source": [
    "def outer():\n",
    "    x=3\n",
    "    def inner():\n",
    "        y=5\n",
    "        result=x+y\n",
    "        return result\n",
    "    return inner()"
   ]
  },
  {
   "cell_type": "code",
   "execution_count": 52,
   "id": "49245f4c",
   "metadata": {},
   "outputs": [],
   "source": [
    "a=outer()"
   ]
  },
  {
   "cell_type": "code",
   "execution_count": 54,
   "id": "71a0efa2",
   "metadata": {},
   "outputs": [
    {
     "data": {
      "text/plain": [
       "8"
      ]
     },
     "execution_count": 54,
     "metadata": {},
     "output_type": "execute_result"
    }
   ],
   "source": [
    "a"
   ]
  },
  {
   "cell_type": "code",
   "execution_count": 1,
   "id": "a05f8137",
   "metadata": {},
   "outputs": [],
   "source": [
    "def outer(func):\n",
    "    def inner():\n",
    "        d1=func()\n",
    "        return d1.upper()\n",
    "    return inner\n",
    "\n",
    "\n",
    "\n",
    "@outer\n",
    "def pr_st():\n",
    "    return \"good morning\""
   ]
  },
  {
   "cell_type": "code",
   "execution_count": 2,
   "id": "e5119146",
   "metadata": {},
   "outputs": [
    {
     "data": {
      "text/plain": [
       "'GOOD MORNING'"
      ]
     },
     "execution_count": 2,
     "metadata": {},
     "output_type": "execute_result"
    }
   ],
   "source": [
    "pr_st()"
   ]
  },
  {
   "cell_type": "code",
   "execution_count": 91,
   "id": "49ceaedd",
   "metadata": {},
   "outputs": [],
   "source": [
    "def div_deco(func):\n",
    "    def inner(a,b):\n",
    "        if b==0:\n",
    "            return \"Enter crct value\"\n",
    "        else:\n",
    "            return func(a,b)\n",
    "    return inner\n",
    "\n",
    "\n",
    "@div_deco\n",
    "def div(a,b):\n",
    "    return a/b"
   ]
  },
  {
   "cell_type": "code",
   "execution_count": 92,
   "id": "371e3c2f",
   "metadata": {},
   "outputs": [
    {
     "data": {
      "text/plain": [
       "'Enter crct value'"
      ]
     },
     "execution_count": 92,
     "metadata": {},
     "output_type": "execute_result"
    }
   ],
   "source": [
    "div(4,0)"
   ]
  },
  {
   "cell_type": "code",
   "execution_count": null,
   "id": "841a2a8e",
   "metadata": {},
   "outputs": [],
   "source": []
  }
 ],
 "metadata": {
  "kernelspec": {
   "display_name": "Python 3 (ipykernel)",
   "language": "python",
   "name": "python3"
  },
  "language_info": {
   "codemirror_mode": {
    "name": "ipython",
    "version": 3
   },
   "file_extension": ".py",
   "mimetype": "text/x-python",
   "name": "python",
   "nbconvert_exporter": "python",
   "pygments_lexer": "ipython3",
   "version": "3.9.1"
  }
 },
 "nbformat": 4,
 "nbformat_minor": 5
}
